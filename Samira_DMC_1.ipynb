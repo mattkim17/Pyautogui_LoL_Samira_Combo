{
 "cells": [
  {
   "cell_type": "code",
   "execution_count": 1,
   "metadata": {},
   "outputs": [],
   "source": [
    "from playsound import playsound\n",
    "import time \n",
    "import pyautogui\n",
    "import multiprocessing"
   ]
  },
  {
   "cell_type": "code",
   "execution_count": 2,
   "metadata": {},
   "outputs": [],
   "source": [
    "image_D = pyautogui.screenshot(region = (925,900,65,65))\n",
    "image_D.save(r'C:\\Users\\Matthew Kim\\Desktop\\Samira-DMC combo script\\'test1.png')"
   ]
  },
  {
   "cell_type": "code",
   "execution_count": 3,
   "metadata": {},
   "outputs": [],
   "source": [
    "dfname = r'C:\\Users\\Matthew Kim\\Desktop\\Samira-DMC combo script\\D.mp3'\n",
    "cfname = r'C:\\Users\\Matthew Kim\\Desktop\\Samira-DMC combo script\\C.mp3'\n",
    "bfname = r'C:\\Users\\Matthew Kim\\Desktop\\Samira-DMC combo script\\B.mp3'\n",
    "afname = r'C:\\Users\\Matthew Kim\\Desktop\\Samira-DMC combo script\\A.mp3'\n",
    "sfname = r'C:\\Users\\Matthew Kim\\Desktop\\Samira-DMC combo script\\S.mp3'\n"
   ]
  },
  {
   "cell_type": "code",
   "execution_count": null,
   "metadata": {
    "scrolled": true
   },
   "outputs": [],
   "source": [
    "while True: \n",
    "    if pyautogui.locateOnScreen('D_rank1.png', confidence = 0.9, region = (925,900,65,65), grayscale = True) != None:\n",
    "        playsound(dfname)\n",
    "        print('Here we go! D')\n",
    "        continue\n",
    "    \n",
    "    elif pyautogui.locateOnScreen('C_rank1.png', confidence = 0.9, region = (925,900,65,65), grayscale = True) != None:\n",
    "        playsound(cfname)\n",
    "        print('Here we go! C')\n",
    "        continue \n",
    "    \n",
    "    elif pyautogui.locateOnScreen('B_rank1.png', confidence = 0.9, region = (925,900,65,65), grayscale = True) != None:\n",
    "        playsound(bfname)\n",
    "        print('Here we go! B')\n",
    "        continue \n",
    "        \n",
    "    elif pyautogui.locateOnScreen('A_rank1.png', confidence = 0.9, region = (925,900,65,65), grayscale = True) != None:\n",
    "        playsound(afname)\n",
    "        print('Here we go! A')\n",
    "        continue \n",
    "    \n",
    "    elif pyautogui.locateOnScreen('S_rank1.png', confidence = 0.9, region = (925,900,65,65), grayscale = True) != None:\n",
    "        playsound(sfname)\n",
    "        print('Here we go! S')\n",
    "        continue \n",
    "    else: \n",
    "        print('I don''t see')\n",
    "        time.sleep(0.1)"
   ]
  }
 ],
 "metadata": {
  "kernelspec": {
   "display_name": "Python 3",
   "language": "python",
   "name": "python3"
  },
  "language_info": {
   "codemirror_mode": {
    "name": "ipython",
    "version": 3
   },
   "file_extension": ".py",
   "mimetype": "text/x-python",
   "name": "python",
   "nbconvert_exporter": "python",
   "pygments_lexer": "ipython3",
   "version": "3.7.6"
  }
 },
 "nbformat": 4,
 "nbformat_minor": 4
}
