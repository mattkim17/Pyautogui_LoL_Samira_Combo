{
 "cells": [
  {
   "cell_type": "code",
   "execution_count": 1,
   "metadata": {},
   "outputs": [],
   "source": [
    "from playsound import playsound\n",
    "import time \n",
    "import pyautogui\n",
    "import multiprocessing"
   ]
  },
  {
   "cell_type": "code",
   "execution_count": 2,
   "metadata": {},
   "outputs": [],
   "source": [
    "image_D = pyautogui.screenshot(region = (925,900,65,65))\n",
    "image_D.save(r'C:\\Users\\Matthew Kim\\Desktop\\Samira-DMC combo script\\'test1.png')"
   ]
  },
  {
   "cell_type": "code",
   "execution_count": 3,
   "metadata": {},
   "outputs": [],
   "source": [
    "dfname = r'C:\\Users\\Matthew Kim\\Desktop\\Samira-DMC combo script\\D.mp3'\n",
    "cfname = r'C:\\Users\\Matthew Kim\\Desktop\\Samira-DMC combo script\\C.mp3'\n",
    "bfname = r'C:\\Users\\Matthew Kim\\Desktop\\Samira-DMC combo script\\B.mp3'\n",
    "afname = r'C:\\Users\\Matthew Kim\\Desktop\\Samira-DMC combo script\\A.mp3'\n",
    "sfname = r'C:\\Users\\Matthew Kim\\Desktop\\Samira-DMC combo script\\S.mp3'\n"
   ]
  },
  {
   "cell_type": "code",
   "execution_count": 5,
   "metadata": {
    "scrolled": true
   },
   "outputs": [
    {
     "name": "stdout",
     "output_type": "stream",
     "text": [
      "I dont see\n",
      "I dont see\n",
      "I dont see\n",
      "I dont see\n",
      "I dont see\n",
      "I dont see\n",
      "I dont see\n",
      "I dont see\n",
      "I dont see\n",
      "I dont see\n",
      "I dont see\n",
      "Here we go! D\n",
      "Here we go! C\n",
      "Here we go! B\n",
      "Here we go! S\n",
      "I dont see\n",
      "I dont see\n",

